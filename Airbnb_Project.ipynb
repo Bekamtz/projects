{
  "nbformat": 4,
  "nbformat_minor": 0,
  "metadata": {
    "colab": {
      "provenance": [],
      "include_colab_link": true
    },
    "kernelspec": {
      "name": "python3",
      "display_name": "Python 3"
    }
  },
  "cells": [
    {
      "cell_type": "markdown",
      "metadata": {
        "id": "view-in-github",
        "colab_type": "text"
      },
      "source": [
        "<a href=\"https://colab.research.google.com/github/Bekamtz/projects/blob/main/Airbnb_Project.ipynb\" target=\"_parent\"><img src=\"https://colab.research.google.com/assets/colab-badge.svg\" alt=\"Open In Colab\"/></a>"
      ]
    },
    {
      "cell_type": "markdown",
      "metadata": {
        "id": "-O5Vrimibf32"
      },
      "source": [
        "# Import Libraries and Data "
      ]
    },
    {
      "cell_type": "code",
      "metadata": {
        "id": "XQRaUvQdmp7t",
        "colab": {
          "base_uri": "https://localhost:8080/",
          "height": 137
        },
        "outputId": "8031a28f-d013-4806-dd33-c4eaa8e08eb0"
      },
      "source": [
        "\n",
        "import numpy as np\n",
        "from PIL import Image\n",
        "from os import path\n",
        "import pandas as pd\n",
        "import seaborn as sns\n",
        "import matplotlib.pyplot as plt\n",
        "%matplotlib inline\n",
        "import warnings\n",
        "import re \n",
        "#wordcloud\n",
        "from nltk.corpus import stopwords\n",
        "import string\n",
        "import nltk\n",
        "import nltk\n",
        "nltk.download('punkt')\n",
        "import nltk\n",
        "nltk.download('stopwords')\n",
        "import nltk\n",
        "nltk.download('wordnet')\n",
        "from os import path\n",
        "from PIL import Image\n",
        "import numpy as np\n",
        "import matplotlib.pyplot as plt\n",
        "import os\n",
        "\n",
        "from wordcloud import WordCloud, STOPWORDS"
      ],
      "execution_count": null,
      "outputs": [
        {
          "output_type": "stream",
          "text": [
            "[nltk_data] Downloading package punkt to /root/nltk_data...\n",
            "[nltk_data]   Unzipping tokenizers/punkt.zip.\n",
            "[nltk_data] Downloading package stopwords to /root/nltk_data...\n",
            "[nltk_data]   Unzipping corpora/stopwords.zip.\n",
            "[nltk_data] Downloading package wordnet to /root/nltk_data...\n",
            "[nltk_data]   Unzipping corpora/wordnet.zip.\n"
          ],
          "name": "stdout"
        }
      ]
    },
    {
      "cell_type": "code",
      "metadata": {
        "id": "NIyX7_LoniMf",
        "colab": {
          "base_uri": "https://localhost:8080/",
          "height": 120
        },
        "outputId": "cd62952d-16d3-42fe-fee3-fc8c131db11b"
      },
      "source": [
        "#import drive \n",
        "from google.colab import drive\n",
        "drive.mount('/content/gdrive')"
      ],
      "execution_count": null,
      "outputs": [
        {
          "output_type": "stream",
          "text": [
            "Go to this URL in a browser: https://accounts.google.com/o/oauth2/auth?client_id=947318989803-6bn6qk8qdgf4n4g3pfee6491hc0brc4i.apps.googleusercontent.com&redirect_uri=urn%3aietf%3awg%3aoauth%3a2.0%3aoob&response_type=code&scope=email%20https%3a%2f%2fwww.googleapis.com%2fauth%2fdocs.test%20https%3a%2f%2fwww.googleapis.com%2fauth%2fdrive%20https%3a%2f%2fwww.googleapis.com%2fauth%2fdrive.photos.readonly%20https%3a%2f%2fwww.googleapis.com%2fauth%2fpeopleapi.readonly\n",
            "\n",
            "Enter your authorization code:\n",
            "··········\n",
            "Mounted at /content/gdrive\n"
          ],
          "name": "stdout"
        }
      ]
    },
    {
      "cell_type": "code",
      "metadata": {
        "id": "y3LCU-fcnn0n"
      },
      "source": [
        "#import file \n",
        "df = pd.read_csv('gdrive/My Drive//Data/airbnb_1000.csv')"
      ],
      "execution_count": null,
      "outputs": []
    },
    {
      "cell_type": "markdown",
      "metadata": {
        "id": "pDUr57dnfYY2"
      },
      "source": [
        "# Web Scrape Data "
      ]
    },
    {
      "cell_type": "markdown",
      "metadata": {
        "id": "5idPMMcLfZHk"
      },
      "source": [
        "Since there was no data online for HCMC, I had to scrape the data manually from the web"
      ]
    },
    {
      "cell_type": "code",
      "metadata": {
        "id": "D04hSIVuSbEr"
      },
      "source": [
        "# Import libraries\n",
        "import sys\n",
        "import time\n",
        "import pandas as pd\n",
        "import requests\n",
        "from bs4 import BeautifulSoup\n",
        "import pickle\n",
        "from random import seed,shuffle"
      ],
      "execution_count": null,
      "outputs": []
    },
    {
      "cell_type": "code",
      "metadata": {
        "id": "kKnDHNcrSx8T"
      },
      "source": [
        "# List containing unscraped URLs\n",
        "errors = []\n",
        "\n",
        "\n",
        "# Randomize listing URLs list\n",
        "seed(3101)\n",
        "shuffle(listings)\n",
        "\n",
        "# Take 1200 URLs only\n",
        "# We target 1000 but take a bit more because there will be errors in some listings\n",
        "listings = listings[:1200]\n",
        "\n",
        "name_data = []\n",
        "\n",
        "data = {'room_info': [],\n",
        "        'price': [],\n",
        "        'review': [],\n",
        "        'features': [],\n",
        "        'no_review': [],\n",
        "        'location': []}\n",
        "\n",
        "tic = time.time()\n",
        "\n",
        "# Scraper\n",
        "for i in listings[600:]: # change this line to reverse search for i in listings[600:]:`\n",
        "    \n",
        "    # Print progress every 10 listings scraped\n",
        "    if len(name_data) % 10 == 0:\n",
        "\n",
        "      toc = time.time()\n",
        "\n",
        "      print(\"No. of Scraped Listings: \" + str(len(name_data)) + \". Epoch time: \" + str(round(toc - tic, 2)) + \" seconds.\")\n",
        "\n",
        "      tic = time.time()\n",
        "\n",
        "    room_url = 'https://www.airbnb.com' + i\n",
        "\n",
        "    driver = webdriver.Chrome('chromedriver', options = options)\n",
        "\n",
        "    try:\n",
        "      driver.get(room_url)\n",
        "\n",
        "      time.sleep(3)\n",
        "\n",
        "      try:\n",
        "\n",
        "        name = driver.find_elements_by_class_name('_18hrqvin')[0].text\n",
        "\n",
        "        room_info = [char.text for char in driver.find_elements_by_class_name('_czm8crp')][1:5]\n",
        "\n",
        "        price = driver.find_elements_by_class_name('_doc79r')[0].text\n",
        "\n",
        "        review = driver.find_elements_by_class_name('_tghtxy2')[0].text\n",
        "\n",
        "        features = [char.text for char in driver.find_elements_by_class_name('_1p3joamp')[:4]]\n",
        "\n",
        "        no_review = driver.find_elements_by_class_name('_1plk0jz1')[0].text\n",
        "\n",
        "        location = driver.find_elements_by_id('neighborhood')[0].text\n",
        "\n",
        "      except:\n",
        "\n",
        "        name = room_info = price = review = features = no_review = location = None\n",
        "\n",
        "        print(\"Unexpected error:\", sys.exc_info()[0])\n",
        "\n",
        "        errors.append(i)\n",
        "\n",
        "    except:\n",
        "      print(\"Page crash at\", i)\n",
        "\n",
        "      errors.append(i)\n",
        "\n",
        "    name_data.append(name) \n",
        "    \n",
        "    data['room_info'].append(room_info)\n",
        "\n",
        "    data['price'].append(price)\n",
        "\n",
        "    data['review'].append(review)\n",
        "\n",
        "    data['features'].append(features)\n",
        "\n",
        "    data['no_review'].append(no_review)\n",
        "\n",
        "    data['location'].append(location)\n",
        "  \n",
        "    # Save data to file every 100 listings scraped\n",
        "    if (len(name_data) % 100 == 0) and (len(name_data) > 0):\n",
        "      df = pd.DataFrame(index = name_data, data = data, columns = data.keys())\n",
        "      df.to_csv('/content/drive/My Drive/airbnb_{}.csv'.format(len(name_data)))\n",
        "      print(\"Data saved with {} listings\".format(len(name_data)))\n",
        "\n",
        "    # Stop after scrapping 500 listings\n",
        "    if len(name_data) == 500:\n",
        "      break"
      ],
      "execution_count": null,
      "outputs": []
    },
    {
      "cell_type": "code",
      "metadata": {
        "id": "oP77ck1pS9no"
      },
      "source": [
        "# Combine data parts\n",
        "data_p1 = pd.read_csv('/content/drive/My Drive/airbnb/airbnb_500.csv')\n",
        "data_p2 = pd.read_csv('/content/drive/My Drive/airbnb/airbnb_1000.csv')\n",
        "data = pd.concat([data_p1, data_p2])\n",
        "data.columns = ['name'] + list(data_p1.columns[1:])\n",
        "data"
      ],
      "execution_count": null,
      "outputs": []
    },
    {
      "cell_type": "markdown",
      "metadata": {
        "id": "C7bILCQ3fmuw"
      },
      "source": [
        "# Cleaning Codes  "
      ]
    },
    {
      "cell_type": "code",
      "metadata": {
        "id": "7s26Bf5OSe8I",
        "colab": {
          "base_uri": "https://localhost:8080/",
          "height": 133
        },
        "outputId": "6e95a79f-b892-44ef-a73e-c9367c4a979b"
      },
      "source": [
        "df.head(1)\n"
      ],
      "execution_count": null,
      "outputs": [
        {
          "output_type": "execute_result",
          "data": {
            "text/html": [
              "<div>\n",
              "<style scoped>\n",
              "    .dataframe tbody tr th:only-of-type {\n",
              "        vertical-align: middle;\n",
              "    }\n",
              "\n",
              "    .dataframe tbody tr th {\n",
              "        vertical-align: top;\n",
              "    }\n",
              "\n",
              "    .dataframe thead th {\n",
              "        text-align: right;\n",
              "    }\n",
              "</style>\n",
              "<table border=\"1\" class=\"dataframe\">\n",
              "  <thead>\n",
              "    <tr style=\"text-align: right;\">\n",
              "      <th></th>\n",
              "      <th>Unnamed: 0</th>\n",
              "      <th>room_info</th>\n",
              "      <th>price</th>\n",
              "      <th>review</th>\n",
              "      <th>features</th>\n",
              "      <th>no_review</th>\n",
              "      <th>location</th>\n",
              "    </tr>\n",
              "  </thead>\n",
              "  <tbody>\n",
              "    <tr>\n",
              "      <th>0</th>\n",
              "      <td>❤️StunningView ⭐PrivateBalcony♥️FREE Saltwater...</td>\n",
              "      <td>['4 guests', '2 bedrooms', '2 beds', '2 baths']</td>\n",
              "      <td>$60</td>\n",
              "      <td>5.0</td>\n",
              "      <td>['Entire home', 'Sparkling clean', 'Hannah is ...</td>\n",
              "      <td>(34 reviews)</td>\n",
              "      <td>The neighborhood\\nHannah’s place is located in...</td>\n",
              "    </tr>\n",
              "  </tbody>\n",
              "</table>\n",
              "</div>"
            ],
            "text/plain": [
              "                                          Unnamed: 0  ...                                           location\n",
              "0  ❤️StunningView ⭐PrivateBalcony♥️FREE Saltwater...  ...  The neighborhood\\nHannah’s place is located in...\n",
              "\n",
              "[1 rows x 7 columns]"
            ]
          },
          "metadata": {
            "tags": []
          },
          "execution_count": 16
        }
      ]
    },
    {
      "cell_type": "markdown",
      "metadata": {
        "id": "sS7lIBIeTf50"
      },
      "source": [
        "Problems:\n",
        "\n",
        "\n",
        "1.   Null Data \n",
        "2.   Data was saved as the wrong data type \n",
        "3.   Room information needed to be seperated into differate columns\n",
        "4.   District information needed to be extracted from location and was not written in Vietnamese and English characters. \n",
        "5.   Features needed to be seperated into a new columns \n",
        "\n",
        "\n"
      ]
    },
    {
      "cell_type": "code",
      "metadata": {
        "id": "csq2LvmEpwt_"
      },
      "source": [
        "# Changing Data Types was easy \n",
        "price = df['price']\n",
        "price= price.str.replace('$','')\n",
        "price = price.astype(int)\n",
        "df['NewPrice'] = price\n",
        "\n"
      ],
      "execution_count": null,
      "outputs": []
    },
    {
      "cell_type": "code",
      "metadata": {
        "id": "4umkLXXYqgQ8"
      },
      "source": [
        "#Caputuring Information was hard \n",
        "num_reviews=df['no_review']\n",
        "num_reviews = num_reviews.str.findall('[0-9]+') \n",
        "num_reviews=num_reviews.astype(str)\n",
        "num_reviews=num_reviews.str.replace(\"'\",'') # there is probably an easier way to do this \n",
        "num_reviews=num_reviews.str.replace(\"[\",'')\n",
        "num_reviews=num_reviews.str.replace(\"]\",'')\n",
        "#reassign and change data type \n",
        "df[\"num_Reviews\"]=num_reviews\n",
        "df[\"num_Reviews\"]=df[\"num_Reviews\"].astype(int)"
      ],
      "execution_count": null,
      "outputs": []
    },
    {
      "cell_type": "code",
      "metadata": {
        "id": "-S0p8rRCv8Jw",
        "colab": {
          "base_uri": "https://localhost:8080/"
        },
        "outputId": "515b6b31-12df-49f2-d28c-5f3d89ba2da0"
      },
      "source": [
        "# This was one of the hardest parts I had to figure out where District information was most frequently given after. \n",
        "dn = dn.str.findall('(?<=located in).((\\D+)?)(\\d?)(?=,\\sH)') # this was tough finds it after the words located in and before the comma space H for Ho chi minh \n"
      ],
      "execution_count": null,
      "outputs": [
        {
          "output_type": "error",
          "ename": "NameError",
          "evalue": "ignored",
          "traceback": [
            "\u001b[0;31m---------------------------------------------------------------------------\u001b[0m",
            "\u001b[0;31mNameError\u001b[0m                                 Traceback (most recent call last)",
            "\u001b[0;32m<ipython-input-1-b26e0cb720bd>\u001b[0m in \u001b[0;36m<module>\u001b[0;34m()\u001b[0m\n\u001b[1;32m      1\u001b[0m \u001b[0;31m# This was one of the hardest parts I had to figure out where District information was most frequently given after.\u001b[0m\u001b[0;34m\u001b[0m\u001b[0;34m\u001b[0m\u001b[0;34m\u001b[0m\u001b[0m\n\u001b[0;32m----> 2\u001b[0;31m \u001b[0mdn\u001b[0m \u001b[0;34m=\u001b[0m \u001b[0mdn\u001b[0m\u001b[0;34m.\u001b[0m\u001b[0mstr\u001b[0m\u001b[0;34m.\u001b[0m\u001b[0mfindall\u001b[0m\u001b[0;34m(\u001b[0m\u001b[0;34m'(?<=located in).((\\D+)?)(\\d?)(?=,\\sH)'\u001b[0m\u001b[0;34m)\u001b[0m \u001b[0;31m# this was tough finds it after the words located in and before the comma space H for Ho chi minh\u001b[0m\u001b[0;34m\u001b[0m\u001b[0;34m\u001b[0m\u001b[0m\n\u001b[0m",
            "\u001b[0;31mNameError\u001b[0m: name 'dn' is not defined"
          ]
        }
      ]
    },
    {
      "cell_type": "code",
      "metadata": {
        "id": "M3m3r8ttwPDY"
      },
      "source": [
        "#Then I had to use value_counts to figure out all the different ways hosts wrote their district. \n",
        "def txt_prep(text):\n",
        "    replacements = [\n",
        "        ['-', ', '], ['/ ', ', '], ['/', ', '], ['\\(', ', '], [' and', ', '], [' &', ', '], ['\\)', ''],\n",
        "        ['Quận , Quận , 4', 'District 4'],\n",
        "        ['Bến Thành, Bến Thành|Bình Thạnh,|Ben Thanh,Ben Thanh,|Bến Thành|Đa Kao, Đa Kao, |Đa Kao|phường , phường , 6|Bến Nghé|Bình Thạnh, Bình Thạnh|Bến Nghé, Bến Nghé, |Quận , Quận , 1|Nguyễn Thái Bình, Nguyễn Thái Bình,|Phường Nguyễn Thái Bìn, Phường Nguyễn Thái Bìn,|phường , phường , 5 |Nguyễn Cư Trinh, Nguyễn Cư Trinh, |Phạm Ngũ Lão, Phạm Ngũ Lão,|District , District , 1 |Cô Giang, Cô Giang,Phường , Phường , 6 |Nguyen Thai Binh, Nguyen Thai Binh,|phường ,phường ,5 |Cô Giang,Cô Giang,|Phường ,Phường ,6|District ,District ,1|phường ,phường ,5|District 1 ', 'District 1'],\n",
        "        ['Ho Chi Minh City, Ho Chi Minh City,|Hồ Chí Minh City,Hồ Chí Minh City,|nan |Ho Chi Minh, Ho Chi Minh, |nan|Unknown ', 'Unknown'],\n",
        "        ['Quận , Quận , 3|District , District , 3', 'District 3'],\n",
        "        ['Phú Nhuận, Phú Nhuận', 'Phú Nhuận'],\n",
        "        ['Tân Bình District,Tân Bình District,', 'Tân Bình'],\n",
        "        ['ĐQuận ,Quận ,2|Quận ,Quận ,2', 'District 2'],\n",
        "        [',  ', ', '], [', ,', ', '], ['\\xa0', ' '],[',\\s+', ','],\n",
        "    \n",
        "    ]\n",
        "    for i, j in replacements:\n",
        "        text = re.sub(str(i), str(j), str(text))\n",
        "    return text\n",
        "    "
      ],
      "execution_count": null,
      "outputs": []
    },
    {
      "cell_type": "code",
      "metadata": {
        "id": "ENz3qyLKwk7y"
      },
      "source": [
        "df['Clean_District_Names'] = df['Clean_District_Names'].apply(txt_prep)"
      ],
      "execution_count": null,
      "outputs": []
    },
    {
      "cell_type": "code",
      "metadata": {
        "id": "wfrqBaIzwynf"
      },
      "source": [
        "#clean out Emojis found this online \n",
        "def deEmojify(inputString):\n",
        "    return inputString.encode('ascii', 'ignore').decode('ascii')\n",
        "\n",
        "df['name'].apply(deEmojify)"
      ],
      "execution_count": null,
      "outputs": []
    },
    {
      "cell_type": "code",
      "metadata": {
        "id": "0Ukum226w5nN"
      },
      "source": [
        "#make a Word Cloud\n",
        "#Analyzing what features costs more ?\n",
        "featuresDF = df[['features','NewPrice']]\n",
        "featuresDFTopper = featuresDF.sort_values('NewPrice',ascending=[0])\n",
        "featuresDFtop=featuresDFTopper.head(100) \n",
        "allfeatures = ''\n",
        "for index,row in featuresDFtop.iterrows():\n",
        "    p = re.sub('[^a-zA-Z]+',' ', row['features'])\n",
        "    allfeatures+=p\n",
        "\n",
        "allfeatures_data=nltk.word_tokenize(allfeatures)\n",
        "filtered_data=[word for word in allfeatures_data if word not in stopwords.words('english')] \n",
        "wnl = nltk.WordNetLemmatizer() \n",
        "allfeatures_data=[wnl.lemmatize(data) for data in filtered_data]\n",
        "allfeatures_words=' '.join(allfeatures_data)\n",
        "\n",
        "#makes wordcloud\n",
        "wordcloud = WordCloud(background_color=\"rgba(255, 255, 255, 0)\", mode=\"RGBA\",width = 1000, height = 700, max_words=100,color_func=lambda*args,**kwargs:(211,90,97)).generate(allfeatures_words)\n",
        "plt.figure(figsize=(10,10))\n",
        "plt.imshow(wordcloud)\n",
        "plt.axis(\"off\")\n",
        "plt.show()"
      ],
      "execution_count": null,
      "outputs": []
    },
    {
      "cell_type": "code",
      "metadata": {
        "id": "o58yopjsxah6"
      },
      "source": [
        "#Self Check in \n",
        "self_check = df['name']\n",
        "self_check.astype(str)\n",
        "self_check=self_check.str.findall('Self check-in')\n",
        "df['self_check']=self_check\n",
        "df['self_check'] = df['self_check'].apply(lambda x: 'Self check-in' if 'Self Check-in' in x else 'N/A' ) # the easier way to find text in the series \n"
      ],
      "execution_count": null,
      "outputs": []
    },
    {
      "cell_type": "code",
      "metadata": {
        "id": "0IFTEzDvVcS-"
      },
      "source": [
        "data = pd.read_csv('gdrive/My Drive//Data/AirbnbFinalFINALDrop4.csv')"
      ],
      "execution_count": null,
      "outputs": []
    },
    {
      "cell_type": "code",
      "metadata": {
        "id": "DBJt1o5aV8oI",
        "colab": {
          "base_uri": "https://localhost:8080/",
          "height": 1000
        },
        "outputId": "d86e07d2-57b7-4edc-d0d4-7080b517c86c"
      },
      "source": [
        "data"
      ],
      "execution_count": null,
      "outputs": [
        {
          "output_type": "execute_result",
          "data": {
            "text/html": [
              "<div>\n",
              "<style scoped>\n",
              "    .dataframe tbody tr th:only-of-type {\n",
              "        vertical-align: middle;\n",
              "    }\n",
              "\n",
              "    .dataframe tbody tr th {\n",
              "        vertical-align: top;\n",
              "    }\n",
              "\n",
              "    .dataframe thead th {\n",
              "        text-align: right;\n",
              "    }\n",
              "</style>\n",
              "<table border=\"1\" class=\"dataframe\">\n",
              "  <thead>\n",
              "    <tr style=\"text-align: right;\">\n",
              "      <th></th>\n",
              "      <th>room_type</th>\n",
              "      <th>bed_info</th>\n",
              "      <th>guest_info</th>\n",
              "      <th>NewPrice</th>\n",
              "      <th>review</th>\n",
              "      <th>NewnumberReviews</th>\n",
              "      <th>features</th>\n",
              "      <th>Clean_District_Names</th>\n",
              "      <th>clean_house_type</th>\n",
              "    </tr>\n",
              "  </thead>\n",
              "  <tbody>\n",
              "    <tr>\n",
              "      <th>0</th>\n",
              "      <td>1 bedroom</td>\n",
              "      <td>2</td>\n",
              "      <td>4</td>\n",
              "      <td>37</td>\n",
              "      <td>4.54</td>\n",
              "      <td>103</td>\n",
              "      <td>['Entire home', 'Self check-in', 'Great locati...</td>\n",
              "      <td>Unknown</td>\n",
              "      <td>Entire home</td>\n",
              "    </tr>\n",
              "    <tr>\n",
              "      <th>1</th>\n",
              "      <td>Studio</td>\n",
              "      <td>2</td>\n",
              "      <td>5</td>\n",
              "      <td>22</td>\n",
              "      <td>4.70</td>\n",
              "      <td>96</td>\n",
              "      <td>['Entire home', 'Self check-in', 'Great locati...</td>\n",
              "      <td>District 1</td>\n",
              "      <td>Entire home</td>\n",
              "    </tr>\n",
              "    <tr>\n",
              "      <th>2</th>\n",
              "      <td>1 bedroom</td>\n",
              "      <td>1</td>\n",
              "      <td>2</td>\n",
              "      <td>35</td>\n",
              "      <td>4.72</td>\n",
              "      <td>36</td>\n",
              "      <td>['Entire home', 'Hot tub', 'Read more about th...</td>\n",
              "      <td>District 1</td>\n",
              "      <td>Entire home</td>\n",
              "    </tr>\n",
              "    <tr>\n",
              "      <th>3</th>\n",
              "      <td>Studio</td>\n",
              "      <td>2</td>\n",
              "      <td>6</td>\n",
              "      <td>40</td>\n",
              "      <td>4.80</td>\n",
              "      <td>126</td>\n",
              "      <td>['Entire home', 'Self check-in', 'Sparkling cl...</td>\n",
              "      <td>District 1</td>\n",
              "      <td>Entire home</td>\n",
              "    </tr>\n",
              "    <tr>\n",
              "      <th>4</th>\n",
              "      <td>2 bedrooms</td>\n",
              "      <td>2</td>\n",
              "      <td>6</td>\n",
              "      <td>53</td>\n",
              "      <td>4.83</td>\n",
              "      <td>29</td>\n",
              "      <td>['Entire home', 'Self check-in', 'Great locati...</td>\n",
              "      <td>District 1</td>\n",
              "      <td>Entire home</td>\n",
              "    </tr>\n",
              "    <tr>\n",
              "      <th>...</th>\n",
              "      <td>...</td>\n",
              "      <td>...</td>\n",
              "      <td>...</td>\n",
              "      <td>...</td>\n",
              "      <td>...</td>\n",
              "      <td>...</td>\n",
              "      <td>...</td>\n",
              "      <td>...</td>\n",
              "      <td>...</td>\n",
              "    </tr>\n",
              "    <tr>\n",
              "      <th>973</th>\n",
              "      <td>1 bedroom</td>\n",
              "      <td>1</td>\n",
              "      <td>2</td>\n",
              "      <td>14</td>\n",
              "      <td>4.87</td>\n",
              "      <td>150</td>\n",
              "      <td>['Private room in house', 'Self check-in', 'Sp...</td>\n",
              "      <td>Unknown</td>\n",
              "      <td>Shared home</td>\n",
              "    </tr>\n",
              "    <tr>\n",
              "      <th>974</th>\n",
              "      <td>1 bedroom</td>\n",
              "      <td>1</td>\n",
              "      <td>2</td>\n",
              "      <td>19</td>\n",
              "      <td>4.81</td>\n",
              "      <td>103</td>\n",
              "      <td>['Entire home', 'Self check-in', 'Sparkling cl...</td>\n",
              "      <td>Unknown</td>\n",
              "      <td>Entire home</td>\n",
              "    </tr>\n",
              "    <tr>\n",
              "      <th>975</th>\n",
              "      <td>1 bedroom</td>\n",
              "      <td>1</td>\n",
              "      <td>2</td>\n",
              "      <td>15</td>\n",
              "      <td>4.98</td>\n",
              "      <td>41</td>\n",
              "      <td>['Private room in apartment', 'Self check-in',...</td>\n",
              "      <td>District 4</td>\n",
              "      <td>Shared home</td>\n",
              "    </tr>\n",
              "    <tr>\n",
              "      <th>976</th>\n",
              "      <td>1 bedroom</td>\n",
              "      <td>1</td>\n",
              "      <td>2</td>\n",
              "      <td>31</td>\n",
              "      <td>4.75</td>\n",
              "      <td>81</td>\n",
              "      <td>['Room in serviced apartment', 'Read more abou...</td>\n",
              "      <td>District 4</td>\n",
              "      <td>Shared home</td>\n",
              "    </tr>\n",
              "    <tr>\n",
              "      <th>977</th>\n",
              "      <td>1 bedroom</td>\n",
              "      <td>1</td>\n",
              "      <td>2</td>\n",
              "      <td>13</td>\n",
              "      <td>4.89</td>\n",
              "      <td>36</td>\n",
              "      <td>['Private room in house', 'Self check-in', 'Ha...</td>\n",
              "      <td>District 1</td>\n",
              "      <td>Shared home</td>\n",
              "    </tr>\n",
              "  </tbody>\n",
              "</table>\n",
              "<p>978 rows × 9 columns</p>\n",
              "</div>"
            ],
            "text/plain": [
              "       room_type  bed_info  ...  Clean_District_Names  clean_house_type\n",
              "0      1 bedroom         2  ...               Unknown       Entire home\n",
              "1         Studio         2  ...            District 1       Entire home\n",
              "2      1 bedroom         1  ...            District 1       Entire home\n",
              "3         Studio         2  ...            District 1       Entire home\n",
              "4     2 bedrooms         2  ...            District 1       Entire home\n",
              "..           ...       ...  ...                   ...               ...\n",
              "973    1 bedroom         1  ...               Unknown       Shared home\n",
              "974    1 bedroom         1  ...               Unknown       Entire home\n",
              "975    1 bedroom         1  ...            District 4       Shared home\n",
              "976    1 bedroom         1  ...            District 4       Shared home\n",
              "977    1 bedroom         1  ...            District 1       Shared home\n",
              "\n",
              "[978 rows x 9 columns]"
            ]
          },
          "metadata": {
            "tags": []
          },
          "execution_count": 23
        }
      ]
    },
    {
      "cell_type": "markdown",
      "metadata": {
        "id": "4M13F734f6Yz"
      },
      "source": [
        "Questions\n",
        "\n",
        "\n",
        "1.   What's the average price per night in HCMC?\n",
        "2.   What type of properties make up the HCMC Airbnb Market?\n",
        "3.   What district is the most popular?\n",
        "4.   How can hosts maximize their profits?\n",
        "\n"
      ]
    }
  ]
}